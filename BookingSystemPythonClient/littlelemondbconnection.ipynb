{
 "cells": [
  {
   "cell_type": "code",
   "execution_count": 1,
   "id": "7c42eb04-d841-44f9-a26d-0db1cf511979",
   "metadata": {},
   "outputs": [],
   "source": [
    "import mysql.connector  as connector"
   ]
  },
  {
   "cell_type": "code",
   "execution_count": 4,
   "id": "225f8d75-763b-4d0e-ae69-6307743d9cd7",
   "metadata": {},
   "outputs": [],
   "source": [
    "connection = connector.connect(user = \"root\", password = \"Trum21pet\", db = \"littlelemondb\") "
   ]
  },
  {
   "cell_type": "code",
   "execution_count": 17,
   "id": "5a41dd2d-4cc3-4645-9e79-c746693ce822",
   "metadata": {},
   "outputs": [],
   "source": [
    "\n",
    "cursor = connection.cursor()\n"
   ]
  },
  {
   "cell_type": "code",
   "execution_count": 7,
   "id": "ca607b0a-ca1f-4991-a842-cf1c30efce76",
   "metadata": {},
   "outputs": [],
   "source": [
    "show_tables_query = \"SHOW tables\" \n",
    "cursor.execute(show_tables_query)"
   ]
  },
  {
   "cell_type": "code",
   "execution_count": 8,
   "id": "ac166469-8cd8-46f8-9346-79101b37ac03",
   "metadata": {},
   "outputs": [
    {
     "name": "stdout",
     "output_type": "stream",
     "text": [
      "[('bookings',), ('customers',), ('menuitems',), ('menus',), ('orderdeliverystatus',), ('orderstable',), ('ordersview',), ('staffinfo',)]\n"
     ]
    }
   ],
   "source": [
    "results = cursor.fetchall()\n",
    "print(results)"
   ]
  },
  {
   "cell_type": "code",
   "execution_count": 27,
   "id": "4eb2a5da-c63b-4f73-8037-a3770166f433",
   "metadata": {},
   "outputs": [
    {
     "name": "stdout",
     "output_type": "stream",
     "text": [
      "('TotalCost', 'FullName', 'ContactNumber', 'Email')\n",
      "(Decimal('69.38'), 'Tamarah Filasov', 494679584, 'tamarahfilasov@gmail.com')\n",
      "(Decimal('75.00'), 'Lia Bonar', 776784094, 'liabonar@gmail.com')\n",
      "(Decimal('83.99'), 'Tony Crabtree', 516423502, 'tonycrabtree@gmail.com')\n",
      "(Decimal('91.84'), 'Tiffani Halstead', 635570221, 'tiffanihalstead@gmail.com')\n",
      "(Decimal('93.13'), 'Arthur Mathewson', 577570334, 'arthurmathewson@gmail.com')\n",
      "(Decimal('98.00'), 'Magdalen Lacheze', 379987561, 'magdalenlacheze@gmail.com')\n",
      "(Decimal('101.60'), 'Ashil Brogini', 894472790, 'ashilbrogini@gmail.com')\n",
      "(Decimal('119.80'), 'Pen Pruce', 850163106, 'penpruce@gmail.com')\n",
      "(Decimal('125.00'), 'Laney Fadden', 218178086, 'laneyfadden@gmail.com')\n",
      "(Decimal('133.17'), 'Roddie Winterbotham', 94943774, 'roddiewinterbotham@gmail.com')\n",
      "(Decimal('168.27'), 'Margarita Mancktelow', 747096307, 'margaritamancktelow@gmail.com')\n",
      "(Decimal('190.00'), 'Mart Malsher', 885536108, 'martmalsher@gmail.com')\n",
      "(Decimal('210.00'), 'Angel Veschambre', 964758263, 'angelveschambre@gmail.com')\n",
      "(Decimal('220.00'), 'Merrill Baudon', 829615667, 'merrillbaudon@gmail.com')\n",
      "(Decimal('225.00'), 'Audie Willcocks', 618110130, 'audiewillcocks@gmail.com')\n",
      "(Decimal('235.00'), 'Giacopo Bramich', 440389486, 'giacopobramich@gmail.com')\n",
      "(Decimal('310.00'), 'Sheilah Maestro', 393867552, 'sheilahmaestro@gmail.com')\n"
     ]
    }
   ],
   "source": [
    "my_join_query = \"\"\" SELECT orderstable.TotalCost, customers.FullName, customers.ContactNumber, customers.Email\n",
    "FROM orderstable \n",
    "INNER JOIN customers\n",
    "ON orderstable.CustomerID = customers.CustomerID\n",
    "WHERE TotalCost >60\n",
    "ORDER BY TotalCost desc;\n",
    "\"\"\"\n",
    "\n",
    "cursor.execute(my_join_query)\n",
    "results = cursor.fetchall()\n",
    "columns = cursor.column_names\n",
    "print(columns)\n",
    "for result in results:\n",
    "    print(result)\n"
   ]
  },
  {
   "cell_type": "code",
   "execution_count": null,
   "id": "e2cbcdfe-9a98-4428-bca7-2cee6314b82d",
   "metadata": {},
   "outputs": [],
   "source": []
  }
 ],
 "metadata": {
  "kernelspec": {
   "display_name": "Python 3 (ipykernel)",
   "language": "python",
   "name": "python3"
  },
  "language_info": {
   "codemirror_mode": {
    "name": "ipython",
    "version": 3
   },
   "file_extension": ".py",
   "mimetype": "text/x-python",
   "name": "python",
   "nbconvert_exporter": "python",
   "pygments_lexer": "ipython3",
   "version": "3.12.0"
  }
 },
 "nbformat": 4,
 "nbformat_minor": 5
}
