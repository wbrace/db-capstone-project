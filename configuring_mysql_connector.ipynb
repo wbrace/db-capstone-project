{
 "cells": [
  {
   "cell_type": "code",
   "execution_count": 1,
   "id": "e1badea5-53de-4e56-844e-163ef7c5736e",
   "metadata": {},
   "outputs": [
    {
     "name": "stdout",
     "output_type": "stream",
     "text": [
      "Defaulting to user installation because normal site-packages is not writeable\n",
      "Collecting mysql-connector-python\n",
      "  Obtaining dependency information for mysql-connector-python from https://files.pythonhosted.org/packages/96/db/50f7397d0c8b013b87ad402f60892335dab6680a373c6aa583fa20c7b7a8/mysql_connector_python-8.2.0-cp312-cp312-win_amd64.whl.metadata\n",
      "  Downloading mysql_connector_python-8.2.0-cp312-cp312-win_amd64.whl.metadata (2.1 kB)\n",
      "Collecting protobuf<=4.21.12,>=4.21.1 (from mysql-connector-python)\n",
      "  Downloading protobuf-4.21.12-cp310-abi3-win_amd64.whl (527 kB)\n",
      "     ---------------------------------------- 0.0/527.0 kB ? eta -:--:--\n",
      "     ---------------------------------------- 0.0/527.0 kB ? eta -:--:--\n",
      "      --------------------------------------- 10.2/527.0 kB ? eta -:--:--\n",
      "      --------------------------------------- 10.2/527.0 kB ? eta -:--:--\n",
      "     -- ---------------------------------- 30.7/527.0 kB 262.6 kB/s eta 0:00:02\n",
      "     ----- ------------------------------- 81.9/527.0 kB 459.5 kB/s eta 0:00:01\n",
      "     ------------------- ------------------ 276.5/527.0 kB 1.3 MB/s eta 0:00:01\n",
      "     -------------------------------------  522.2/527.0 kB 2.2 MB/s eta 0:00:01\n",
      "     -------------------------------------- 527.0/527.0 kB 2.1 MB/s eta 0:00:00\n",
      "Downloading mysql_connector_python-8.2.0-cp312-cp312-win_amd64.whl (14.2 MB)\n",
      "   ---------------------------------------- 0.0/14.2 MB ? eta -:--:--\n",
      "   - -------------------------------------- 0.7/14.2 MB 13.9 MB/s eta 0:00:01\n",
      "   --- ------------------------------------ 1.2/14.2 MB 13.3 MB/s eta 0:00:01\n",
      "   ----- ---------------------------------- 2.0/14.2 MB 14.2 MB/s eta 0:00:01\n",
      "   ------- -------------------------------- 2.8/14.2 MB 16.1 MB/s eta 0:00:01\n",
      "   --------- ------------------------------ 3.5/14.2 MB 14.8 MB/s eta 0:00:01\n",
      "   ------------ --------------------------- 4.5/14.2 MB 16.8 MB/s eta 0:00:01\n",
      "   --------------- ------------------------ 5.4/14.2 MB 17.3 MB/s eta 0:00:01\n",
      "   ------------------ --------------------- 6.5/14.2 MB 18.1 MB/s eta 0:00:01\n",
      "   --------------------- ------------------ 7.5/14.2 MB 18.5 MB/s eta 0:00:01\n",
      "   ------------------------- -------------- 9.0/14.2 MB 19.9 MB/s eta 0:00:01\n",
      "   ---------------------------- ----------- 10.2/14.2 MB 20.5 MB/s eta 0:00:01\n",
      "   --------------------------------- ------ 11.9/14.2 MB 23.4 MB/s eta 0:00:01\n",
      "   ------------------------------------ --- 12.9/14.2 MB 24.3 MB/s eta 0:00:01\n",
      "   ---------------------------------------  14.2/14.2 MB 26.2 MB/s eta 0:00:01\n",
      "   ---------------------------------------  14.2/14.2 MB 26.2 MB/s eta 0:00:01\n",
      "   ---------------------------------------  14.2/14.2 MB 26.2 MB/s eta 0:00:01\n",
      "   ---------------------------------------- 14.2/14.2 MB 19.8 MB/s eta 0:00:00\n",
      "Installing collected packages: protobuf, mysql-connector-python\n",
      "Successfully installed mysql-connector-python-8.2.0 protobuf-4.21.12\n"
     ]
    },
    {
     "name": "stderr",
     "output_type": "stream",
     "text": [
      "\n",
      "[notice] A new release of pip is available: 23.2.1 -> 23.3.1\n",
      "[notice] To update, run: python.exe -m pip install --upgrade pip\n"
     ]
    }
   ],
   "source": [
    "!pip install mysql-connector-python"
   ]
  },
  {
   "cell_type": "code",
   "execution_count": 2,
   "id": "cc7b3e7a-bf46-453f-bdc1-e69707921e66",
   "metadata": {},
   "outputs": [],
   "source": [
    "import mysql.connector as connector"
   ]
  },
  {
   "cell_type": "code",
   "execution_count": null,
   "id": "988a418b-fd65-4cdf-8b96-5b49d43e331d",
   "metadata": {},
   "outputs": [],
   "source": []
  }
 ],
 "metadata": {
  "kernelspec": {
   "display_name": "Python 3 (ipykernel)",
   "language": "python",
   "name": "python3"
  },
  "language_info": {
   "codemirror_mode": {
    "name": "ipython",
    "version": 3
   },
   "file_extension": ".py",
   "mimetype": "text/x-python",
   "name": "python",
   "nbconvert_exporter": "python",
   "pygments_lexer": "ipython3",
   "version": "3.12.0"
  }
 },
 "nbformat": 4,
 "nbformat_minor": 5
}
